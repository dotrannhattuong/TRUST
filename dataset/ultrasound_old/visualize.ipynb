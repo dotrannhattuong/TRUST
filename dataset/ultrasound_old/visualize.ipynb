{
 "cells": [
  {
   "cell_type": "code",
   "execution_count": null,
   "id": "9cfec37b",
   "metadata": {},
   "outputs": [],
   "source": [
    "import os\n",
    "import numpy as np\n",
    "from PIL import Image\n",
    "import matplotlib.pyplot as plt\n",
    "import random\n",
    "\n",
    "def rgb_mask_to_binary(mask):\n",
    "    mask_np = np.array(mask)\n",
    "    binary_mask = np.any(mask_np != 0, axis=-1).astype(np.uint8)\n",
    "    return binary_mask\n",
    "\n",
    "def visualize_random_samples(image_dir, mask_dir, opacity=0.5, mask_color=(0, 1, 0), num_samples=5):\n",
    "    image_files = sorted([f for f in os.listdir(image_dir) if f.endswith(('.png', '.jpg', '.jpeg'))])\n",
    "    selected_files = random.sample(image_files, k=min(num_samples, len(image_files)))  # Random selection\n",
    "\n",
    "    for filename in selected_files:\n",
    "        image_path = os.path.join(image_dir, filename)\n",
    "        mask_path = os.path.join(mask_dir, filename)\n",
    "\n",
    "        # Load image and mask\n",
    "        image = Image.open(image_path).convert(\"RGB\")\n",
    "        mask = Image.open(mask_path)\n",
    "        binary_mask = rgb_mask_to_binary(mask)\n",
    "\n",
    "        # Normalize image\n",
    "        image_np = np.array(image) / 255.0\n",
    "\n",
    "        # Create color mask\n",
    "        mask_rgb = np.zeros_like(image_np)\n",
    "        mask_rgb[:, :, 0] = mask_color[0]\n",
    "        mask_rgb[:, :, 1] = mask_color[1]\n",
    "        mask_rgb[:, :, 2] = mask_color[2]\n",
    "\n",
    "        # Apply overlay only on mask areas\n",
    "        overlay = image_np.copy()\n",
    "        overlay[binary_mask == 1] = (\n",
    "            (1 - opacity) * image_np[binary_mask == 1] + opacity * mask_rgb[binary_mask == 1]\n",
    "        )\n",
    "\n",
    "        # Show result\n",
    "        plt.figure(figsize=(6, 6))\n",
    "        plt.imshow(overlay)\n",
    "        plt.axis('off')\n",
    "        plt.title(f'Overlay: {filename} (opacity={opacity})')\n",
    "        plt.show()\n",
    "\n",
    "# Example usage:\n",
    "visualize_random_samples(\n",
    "    image_dir='/mnt/HDD1/tuong/TRUST/dataset/ultrasound/256/BUSI/train/images',\n",
    "    mask_dir='/mnt/HDD1/tuong/TRUST/dataset/ultrasound/256/BUSI/train/masks',\n",
    "    opacity=0.4,\n",
    "    mask_color=(0, 1, 0),  # green overlay\n",
    "    num_samples=20          # number of random samples\n",
    ")\n"
   ]
  }
 ],
 "metadata": {
  "kernelspec": {
   "display_name": "ecb_vis",
   "language": "python",
   "name": "python3"
  },
  "language_info": {
   "codemirror_mode": {
    "name": "ipython",
    "version": 3
   },
   "file_extension": ".py",
   "mimetype": "text/x-python",
   "name": "python",
   "nbconvert_exporter": "python",
   "pygments_lexer": "ipython3",
   "version": "3.9.20"
  }
 },
 "nbformat": 4,
 "nbformat_minor": 5
}
